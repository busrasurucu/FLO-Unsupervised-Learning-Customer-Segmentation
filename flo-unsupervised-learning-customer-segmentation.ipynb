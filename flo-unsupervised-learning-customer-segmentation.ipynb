{
 "cells": [
  {
   "cell_type": "markdown",
   "id": "80a0215f",
   "metadata": {
    "_cell_guid": "b1076dfc-b9ad-4769-8c92-a6c4dae69d19",
    "_uuid": "8f2839f25d086af736a60e9eeb907d3b93b6e0e5",
    "papermill": {
     "duration": 0.009465,
     "end_time": "2024-07-18T08:17:23.843022",
     "exception": false,
     "start_time": "2024-07-18T08:17:23.833557",
     "status": "completed"
    },
    "tags": []
   },
   "source": [
    "<div class=\"alert alert-primary\" style=\"margin-top: 20px; padding: 20px; border-radius: 10px;background-color:  #FF7F00 ; color: softblue;\">\n",
    "\n",
    "<h1><center>FLO Unsupervised Learning Customer Segmentation</center></h1>\n",
    "    \n",
    "</div>"
   ]
  },
  {
   "cell_type": "markdown",
   "id": "51676f4e",
   "metadata": {
    "papermill": {
     "duration": 0.008466,
     "end_time": "2024-07-18T08:17:23.860143",
     "exception": false,
     "start_time": "2024-07-18T08:17:23.851677",
     "status": "completed"
    },
    "tags": []
   },
   "source": [
    "<img src=\"https://miro.medium.com/v2/resize:fit:1120/1*dUfbCkjw3p5oGEeC-agZFA.png\" alt=\"Örnek Görsel\" width=\"1200\" height=\"100\"/>"
   ]
  },
  {
   "cell_type": "markdown",
   "id": "986ab166",
   "metadata": {
    "papermill": {
     "duration": 0.008339,
     "end_time": "2024-07-18T08:17:23.877039",
     "exception": false,
     "start_time": "2024-07-18T08:17:23.868700",
     "status": "completed"
    },
    "tags": []
   },
   "source": [
    "# Business Problem"
   ]
  },
  {
   "cell_type": "markdown",
   "id": "a9a26553",
   "metadata": {
    "papermill": {
     "duration": 0.008342,
     "end_time": "2024-07-18T08:17:23.894027",
     "exception": false,
     "start_time": "2024-07-18T08:17:23.885685",
     "status": "completed"
    },
    "tags": []
   },
   "source": [
    "\n",
    "<div style=\"background-color: #ffcc99; padding: 20px; border-radius: 10px; border: 1px solid #a7c195; color: #663300;\">FLO wants to segment its customers and develop marketing strategies based on these segments. For this purpose, customer behaviors will be identified, and groups will be formed based on clustering of these behaviors. </div>"
   ]
  },
  {
   "cell_type": "markdown",
   "id": "0039d1f9",
   "metadata": {
    "papermill": {
     "duration": 0.008409,
     "end_time": "2024-07-18T08:17:23.911055",
     "exception": false,
     "start_time": "2024-07-18T08:17:23.902646",
     "status": "completed"
    },
    "tags": []
   },
   "source": [
    "# About DataSet"
   ]
  },
  {
   "cell_type": "markdown",
   "id": "4d6aa9e6",
   "metadata": {
    "papermill": {
     "duration": 0.008259,
     "end_time": "2024-07-18T08:17:23.927846",
     "exception": false,
     "start_time": "2024-07-18T08:17:23.919587",
     "status": "completed"
    },
    "tags": []
   },
   "source": [
    "<div style=\"background-color: #ffcc99; padding: 20px; border-radius: 10px; border: 1px solid #a7c195; color:#663300;\"> The dataset consists of information obtained from past shopping behaviors of customers who made their last purchases as OmniChannel (shopping both online and offline) at FLO between 2020 and 2021. </div>"
   ]
  },
  {
   "cell_type": "markdown",
   "id": "30e25bbb",
   "metadata": {
    "papermill": {
     "duration": 0.008304,
     "end_time": "2024-07-18T08:17:23.944787",
     "exception": false,
     "start_time": "2024-07-18T08:17:23.936483",
     "status": "completed"
    },
    "tags": []
   },
   "source": [
    "<div style=\"background-color: #ffcc99; padding: 20px; border-radius: 10px; border: 1px solid #a7c195; color: #663300;\"> 12 variables, 19,945 observations, 2.7 MB</div>"
   ]
  },
  {
   "cell_type": "markdown",
   "id": "4623e222",
   "metadata": {
    "papermill": {
     "duration": 0.008378,
     "end_time": "2024-07-18T08:17:23.961612",
     "exception": false,
     "start_time": "2024-07-18T08:17:23.953234",
     "status": "completed"
    },
    "tags": []
   },
   "source": [
    "| Variable Name                        | Description                                                                              |\n",
    "|--------------------------------------|------------------------------------------------------------------------------------------|\n",
    "| master_id                            | Unique customer number                                                                   |\n",
    "| order_channel                        | The platform channel used for the shopping (Android, iOS, Desktop, Mobile)               |\n",
    "| last_order_channel                   | The channel used for the last purchase                                                   |\n",
    "| first_order_date                     | The date of the customer's first purchase                                                |\n",
    "| last_order_date                      | The date of the customer's last purchase                                                 |\n",
    "| last_order_date_online               | The date of the customer's last online purchase                                          |\n",
    "| last_order_date_offline              | The date of the customer's last offline purchase                                         |\n",
    "| order_num_total_ever_online          | The total number of purchases made by the customer on the online platform                |\n",
    "| order_num_total_ever_offline         | The total number of purchases made by the customer on the offline platform               |\n",
    "| customer_value_total_ever_offline    | The total amount spent by the customer in offline purchases                              |\n",
    "| customer_value_total_ever_online     | The total amount spent by the customer in online purchases                               |\n",
    "| interested_in_categories_12          | The list of categories the customer has shopped in the last 12 months                    |\n"
   ]
  },
  {
   "cell_type": "markdown",
   "id": "60447001",
   "metadata": {
    "papermill": {
     "duration": 0.008351,
     "end_time": "2024-07-18T08:17:23.978950",
     "exception": false,
     "start_time": "2024-07-18T08:17:23.970599",
     "status": "completed"
    },
    "tags": []
   },
   "source": [
    "# Importing"
   ]
  },
  {
   "cell_type": "code",
   "execution_count": 1,
   "id": "01256b4d",
   "metadata": {
    "execution": {
     "iopub.execute_input": "2024-07-18T08:17:23.998090Z",
     "iopub.status.busy": "2024-07-18T08:17:23.997644Z",
     "iopub.status.idle": "2024-07-18T08:17:27.858607Z",
     "shell.execute_reply": "2024-07-18T08:17:27.856985Z"
    },
    "papermill": {
     "duration": 3.873872,
     "end_time": "2024-07-18T08:17:27.861389",
     "exception": false,
     "start_time": "2024-07-18T08:17:23.987517",
     "status": "completed"
    },
    "tags": []
   },
   "outputs": [
    {
     "data": {
      "text/html": [
       "<div>\n",
       "<style scoped>\n",
       "    .dataframe tbody tr th:only-of-type {\n",
       "        vertical-align: middle;\n",
       "    }\n",
       "\n",
       "    .dataframe tbody tr th {\n",
       "        vertical-align: top;\n",
       "    }\n",
       "\n",
       "    .dataframe thead th {\n",
       "        text-align: right;\n",
       "    }\n",
       "</style>\n",
       "<table border=\"1\" class=\"dataframe\">\n",
       "  <thead>\n",
       "    <tr style=\"text-align: right;\">\n",
       "      <th></th>\n",
       "      <th>master_id</th>\n",
       "      <th>order_channel</th>\n",
       "      <th>last_order_channel</th>\n",
       "      <th>first_order_date</th>\n",
       "      <th>last_order_date</th>\n",
       "      <th>last_order_date_online</th>\n",
       "      <th>last_order_date_offline</th>\n",
       "      <th>order_num_total_ever_online</th>\n",
       "      <th>order_num_total_ever_offline</th>\n",
       "      <th>customer_value_total_ever_offline</th>\n",
       "      <th>customer_value_total_ever_online</th>\n",
       "      <th>interested_in_categories_12</th>\n",
       "    </tr>\n",
       "  </thead>\n",
       "  <tbody>\n",
       "    <tr>\n",
       "      <th>0</th>\n",
       "      <td>cc294636-19f0-11eb-8d74-000d3a38a36f</td>\n",
       "      <td>Android App</td>\n",
       "      <td>Offline</td>\n",
       "      <td>2020-10-30</td>\n",
       "      <td>2021-02-26</td>\n",
       "      <td>2021-02-21</td>\n",
       "      <td>2021-02-26</td>\n",
       "      <td>4.0000</td>\n",
       "      <td>1.0000</td>\n",
       "      <td>139.9900</td>\n",
       "      <td>799.3800</td>\n",
       "      <td>[KADIN]</td>\n",
       "    </tr>\n",
       "    <tr>\n",
       "      <th>1</th>\n",
       "      <td>f431bd5a-ab7b-11e9-a2fc-000d3a38a36f</td>\n",
       "      <td>Android App</td>\n",
       "      <td>Mobile</td>\n",
       "      <td>2017-02-08</td>\n",
       "      <td>2021-02-16</td>\n",
       "      <td>2021-02-16</td>\n",
       "      <td>2020-01-10</td>\n",
       "      <td>19.0000</td>\n",
       "      <td>2.0000</td>\n",
       "      <td>159.9700</td>\n",
       "      <td>1853.5800</td>\n",
       "      <td>[ERKEK, COCUK, KADIN, AKTIFSPOR]</td>\n",
       "    </tr>\n",
       "    <tr>\n",
       "      <th>2</th>\n",
       "      <td>69b69676-1a40-11ea-941b-000d3a38a36f</td>\n",
       "      <td>Android App</td>\n",
       "      <td>Android App</td>\n",
       "      <td>2019-11-27</td>\n",
       "      <td>2020-11-27</td>\n",
       "      <td>2020-11-27</td>\n",
       "      <td>2019-12-01</td>\n",
       "      <td>3.0000</td>\n",
       "      <td>2.0000</td>\n",
       "      <td>189.9700</td>\n",
       "      <td>395.3500</td>\n",
       "      <td>[ERKEK, KADIN]</td>\n",
       "    </tr>\n",
       "    <tr>\n",
       "      <th>3</th>\n",
       "      <td>1854e56c-491f-11eb-806e-000d3a38a36f</td>\n",
       "      <td>Android App</td>\n",
       "      <td>Android App</td>\n",
       "      <td>2021-01-06</td>\n",
       "      <td>2021-01-17</td>\n",
       "      <td>2021-01-17</td>\n",
       "      <td>2021-01-06</td>\n",
       "      <td>1.0000</td>\n",
       "      <td>1.0000</td>\n",
       "      <td>39.9900</td>\n",
       "      <td>81.9800</td>\n",
       "      <td>[AKTIFCOCUK, COCUK]</td>\n",
       "    </tr>\n",
       "    <tr>\n",
       "      <th>4</th>\n",
       "      <td>d6ea1074-f1f5-11e9-9346-000d3a38a36f</td>\n",
       "      <td>Desktop</td>\n",
       "      <td>Desktop</td>\n",
       "      <td>2019-08-03</td>\n",
       "      <td>2021-03-07</td>\n",
       "      <td>2021-03-07</td>\n",
       "      <td>2019-08-03</td>\n",
       "      <td>1.0000</td>\n",
       "      <td>1.0000</td>\n",
       "      <td>49.9900</td>\n",
       "      <td>159.9900</td>\n",
       "      <td>[AKTIFSPOR]</td>\n",
       "    </tr>\n",
       "  </tbody>\n",
       "</table>\n",
       "</div>"
      ],
      "text/plain": [
       "                              master_id order_channel last_order_channel first_order_date last_order_date last_order_date_online last_order_date_offline  order_num_total_ever_online  order_num_total_ever_offline  customer_value_total_ever_offline  customer_value_total_ever_online       interested_in_categories_12\n",
       "0  cc294636-19f0-11eb-8d74-000d3a38a36f   Android App            Offline       2020-10-30      2021-02-26             2021-02-21              2021-02-26                       4.0000                        1.0000                           139.9900                          799.3800                           [KADIN]\n",
       "1  f431bd5a-ab7b-11e9-a2fc-000d3a38a36f   Android App             Mobile       2017-02-08      2021-02-16             2021-02-16              2020-01-10                      19.0000                        2.0000                           159.9700                         1853.5800  [ERKEK, COCUK, KADIN, AKTIFSPOR]\n",
       "2  69b69676-1a40-11ea-941b-000d3a38a36f   Android App        Android App       2019-11-27      2020-11-27             2020-11-27              2019-12-01                       3.0000                        2.0000                           189.9700                          395.3500                    [ERKEK, KADIN]\n",
       "3  1854e56c-491f-11eb-806e-000d3a38a36f   Android App        Android App       2021-01-06      2021-01-17             2021-01-17              2021-01-06                       1.0000                        1.0000                            39.9900                           81.9800               [AKTIFCOCUK, COCUK]\n",
       "4  d6ea1074-f1f5-11e9-9346-000d3a38a36f       Desktop            Desktop       2019-08-03      2021-03-07             2021-03-07              2019-08-03                       1.0000                        1.0000                            49.9900                          159.9900                       [AKTIFSPOR]"
      ]
     },
     "execution_count": 1,
     "metadata": {},
     "output_type": "execute_result"
    }
   ],
   "source": [
    "from IPython.core.interactiveshell import InteractiveShell\n",
    "InteractiveShell.ast_node_interactivity = \"all\"\n",
    "\n",
    "import matplotlib.pyplot as plt\n",
    "import numpy as np\n",
    "import pandas as pd\n",
    "import seaborn as sns\n",
    "import datetime as dt\n",
    "import warnings\n",
    "from scipy import stats\n",
    "from sklearn.preprocessing import MinMaxScaler\n",
    "from sklearn.cluster import KMeans, AgglomerativeClustering\n",
    "from yellowbrick.cluster import KElbowVisualizer\n",
    "from scipy.cluster.hierarchy import linkage, dendrogram\n",
    "warnings.filterwarnings('ignore', category=FutureWarning, module='sklearn')\n",
    "\n",
    "\n",
    "pd.set_option('display.max_columns', None)\n",
    "pd.set_option('display.width', 500)\n",
    "pd.set_option('display.max_rows', None)\n",
    "pd.set_option('display.float_format', lambda x: '%.4f' % x)\n",
    "\n",
    "df = pd.read_csv(\"/kaggle/input/flo-data/flo_data_20k.csv\")\n",
    "df.head()\n",
    "\n"
   ]
  },
  {
   "cell_type": "code",
   "execution_count": 2,
   "id": "b909bac5",
   "metadata": {
    "execution": {
     "iopub.execute_input": "2024-07-18T08:17:27.881878Z",
     "iopub.status.busy": "2024-07-18T08:17:27.881430Z",
     "iopub.status.idle": "2024-07-18T08:17:27.920153Z",
     "shell.execute_reply": "2024-07-18T08:17:27.918917Z"
    },
    "papermill": {
     "duration": 0.053223,
     "end_time": "2024-07-18T08:17:27.923587",
     "exception": false,
     "start_time": "2024-07-18T08:17:27.870364",
     "status": "completed"
    },
    "tags": []
   },
   "outputs": [
    {
     "name": "stdout",
     "output_type": "stream",
     "text": [
      "##################### Shape #####################\n",
      "(19945, 12)\n",
      "##################### Types #####################\n",
      "master_id                             object\n",
      "order_channel                         object\n",
      "last_order_channel                    object\n",
      "first_order_date                      object\n",
      "last_order_date                       object\n",
      "last_order_date_online                object\n",
      "last_order_date_offline               object\n",
      "order_num_total_ever_online          float64\n",
      "order_num_total_ever_offline         float64\n",
      "customer_value_total_ever_offline    float64\n",
      "customer_value_total_ever_online     float64\n",
      "interested_in_categories_12           object\n",
      "dtype: object\n",
      "##################### NA #####################\n",
      "master_id                            0\n",
      "order_channel                        0\n",
      "last_order_channel                   0\n",
      "first_order_date                     0\n",
      "last_order_date                      0\n",
      "last_order_date_online               0\n",
      "last_order_date_offline              0\n",
      "order_num_total_ever_online          0\n",
      "order_num_total_ever_offline         0\n",
      "customer_value_total_ever_offline    0\n",
      "customer_value_total_ever_online     0\n",
      "interested_in_categories_12          0\n",
      "dtype: int64\n",
      "##################### Quantiles #####################\n",
      "                                   0.0000  0.0500   0.5000    0.9500    0.9900     1.0000\n",
      "order_num_total_ever_online        1.0000  1.0000   2.0000   10.0000   20.0000   200.0000\n",
      "order_num_total_ever_offline       1.0000  1.0000   1.0000    4.0000    7.0000   109.0000\n",
      "customer_value_total_ever_offline 10.0000 39.9900 179.9800  694.2220 1219.9468 18119.1400\n",
      "customer_value_total_ever_online  12.9900 63.9900 286.4600 1556.7260 3143.8104 45220.1300\n"
     ]
    }
   ],
   "source": [
    "def check_df(dataframe, head=5):\n",
    "    print(\"##################### Shape #####################\")\n",
    "    print(dataframe.shape)\n",
    "\n",
    "    print(\"##################### Types #####################\")\n",
    "    print(dataframe.dtypes)\n",
    "\n",
    "    print(\"##################### NA #####################\")\n",
    "    print(dataframe.isnull().sum())\n",
    "\n",
    "    print(\"##################### Quantiles #####################\")\n",
    "    numeric_cols = dataframe.select_dtypes(include=['number'])\n",
    "    print(numeric_cols.quantile([0, 0.05, 0.50, 0.95, 0.99, 1]).T)\n",
    "\n",
    "check_df(df)"
   ]
  },
  {
   "cell_type": "code",
   "execution_count": 3,
   "id": "4c472d4e",
   "metadata": {
    "execution": {
     "iopub.execute_input": "2024-07-18T08:17:27.943791Z",
     "iopub.status.busy": "2024-07-18T08:17:27.943371Z",
     "iopub.status.idle": "2024-07-18T08:17:27.999657Z",
     "shell.execute_reply": "2024-07-18T08:17:27.998201Z"
    },
    "papermill": {
     "duration": 0.069662,
     "end_time": "2024-07-18T08:17:28.002580",
     "exception": false,
     "start_time": "2024-07-18T08:17:27.932918",
     "status": "completed"
    },
    "tags": []
   },
   "outputs": [
    {
     "data": {
      "text/html": [
       "<div>\n",
       "<style scoped>\n",
       "    .dataframe tbody tr th:only-of-type {\n",
       "        vertical-align: middle;\n",
       "    }\n",
       "\n",
       "    .dataframe tbody tr th {\n",
       "        vertical-align: top;\n",
       "    }\n",
       "\n",
       "    .dataframe thead th {\n",
       "        text-align: right;\n",
       "    }\n",
       "</style>\n",
       "<table border=\"1\" class=\"dataframe\">\n",
       "  <thead>\n",
       "    <tr style=\"text-align: right;\">\n",
       "      <th></th>\n",
       "      <th>master_id</th>\n",
       "      <th>order_channel</th>\n",
       "      <th>last_order_channel</th>\n",
       "      <th>first_order_date</th>\n",
       "      <th>last_order_date</th>\n",
       "      <th>last_order_date_online</th>\n",
       "      <th>last_order_date_offline</th>\n",
       "      <th>order_num_total_ever_online</th>\n",
       "      <th>order_num_total_ever_offline</th>\n",
       "      <th>customer_value_total_ever_offline</th>\n",
       "      <th>customer_value_total_ever_online</th>\n",
       "      <th>interested_in_categories_12</th>\n",
       "      <th>tenure</th>\n",
       "      <th>recency</th>\n",
       "      <th>frequency</th>\n",
       "      <th>monetary</th>\n",
       "    </tr>\n",
       "  </thead>\n",
       "  <tbody>\n",
       "    <tr>\n",
       "      <th>0</th>\n",
       "      <td>cc294636-19f0-11eb-8d74-000d3a38a36f</td>\n",
       "      <td>Android App</td>\n",
       "      <td>Offline</td>\n",
       "      <td>2020-10-30</td>\n",
       "      <td>2021-02-26</td>\n",
       "      <td>2021-02-21</td>\n",
       "      <td>2021-02-26</td>\n",
       "      <td>4.0000</td>\n",
       "      <td>1.0000</td>\n",
       "      <td>139.9900</td>\n",
       "      <td>799.3800</td>\n",
       "      <td>[KADIN]</td>\n",
       "      <td>1357</td>\n",
       "      <td>1238</td>\n",
       "      <td>5.0000</td>\n",
       "      <td>939.3700</td>\n",
       "    </tr>\n",
       "    <tr>\n",
       "      <th>1</th>\n",
       "      <td>f431bd5a-ab7b-11e9-a2fc-000d3a38a36f</td>\n",
       "      <td>Android App</td>\n",
       "      <td>Mobile</td>\n",
       "      <td>2017-02-08</td>\n",
       "      <td>2021-02-16</td>\n",
       "      <td>2021-02-16</td>\n",
       "      <td>2020-01-10</td>\n",
       "      <td>19.0000</td>\n",
       "      <td>2.0000</td>\n",
       "      <td>159.9700</td>\n",
       "      <td>1853.5800</td>\n",
       "      <td>[ERKEK, COCUK, KADIN, AKTIFSPOR]</td>\n",
       "      <td>2717</td>\n",
       "      <td>1248</td>\n",
       "      <td>21.0000</td>\n",
       "      <td>2013.5500</td>\n",
       "    </tr>\n",
       "    <tr>\n",
       "      <th>2</th>\n",
       "      <td>69b69676-1a40-11ea-941b-000d3a38a36f</td>\n",
       "      <td>Android App</td>\n",
       "      <td>Android App</td>\n",
       "      <td>2019-11-27</td>\n",
       "      <td>2020-11-27</td>\n",
       "      <td>2020-11-27</td>\n",
       "      <td>2019-12-01</td>\n",
       "      <td>3.0000</td>\n",
       "      <td>2.0000</td>\n",
       "      <td>189.9700</td>\n",
       "      <td>395.3500</td>\n",
       "      <td>[ERKEK, KADIN]</td>\n",
       "      <td>1695</td>\n",
       "      <td>1329</td>\n",
       "      <td>5.0000</td>\n",
       "      <td>585.3200</td>\n",
       "    </tr>\n",
       "    <tr>\n",
       "      <th>3</th>\n",
       "      <td>1854e56c-491f-11eb-806e-000d3a38a36f</td>\n",
       "      <td>Android App</td>\n",
       "      <td>Android App</td>\n",
       "      <td>2021-01-06</td>\n",
       "      <td>2021-01-17</td>\n",
       "      <td>2021-01-17</td>\n",
       "      <td>2021-01-06</td>\n",
       "      <td>1.0000</td>\n",
       "      <td>1.0000</td>\n",
       "      <td>39.9900</td>\n",
       "      <td>81.9800</td>\n",
       "      <td>[AKTIFCOCUK, COCUK]</td>\n",
       "      <td>1289</td>\n",
       "      <td>1278</td>\n",
       "      <td>2.0000</td>\n",
       "      <td>121.9700</td>\n",
       "    </tr>\n",
       "    <tr>\n",
       "      <th>4</th>\n",
       "      <td>d6ea1074-f1f5-11e9-9346-000d3a38a36f</td>\n",
       "      <td>Desktop</td>\n",
       "      <td>Desktop</td>\n",
       "      <td>2019-08-03</td>\n",
       "      <td>2021-03-07</td>\n",
       "      <td>2021-03-07</td>\n",
       "      <td>2019-08-03</td>\n",
       "      <td>1.0000</td>\n",
       "      <td>1.0000</td>\n",
       "      <td>49.9900</td>\n",
       "      <td>159.9900</td>\n",
       "      <td>[AKTIFSPOR]</td>\n",
       "      <td>1811</td>\n",
       "      <td>1229</td>\n",
       "      <td>2.0000</td>\n",
       "      <td>209.9800</td>\n",
       "    </tr>\n",
       "  </tbody>\n",
       "</table>\n",
       "</div>"
      ],
      "text/plain": [
       "                              master_id order_channel last_order_channel first_order_date last_order_date last_order_date_online last_order_date_offline  order_num_total_ever_online  order_num_total_ever_offline  customer_value_total_ever_offline  customer_value_total_ever_online       interested_in_categories_12  tenure  recency  frequency  monetary\n",
       "0  cc294636-19f0-11eb-8d74-000d3a38a36f   Android App            Offline       2020-10-30      2021-02-26             2021-02-21              2021-02-26                       4.0000                        1.0000                           139.9900                          799.3800                           [KADIN]    1357     1238     5.0000  939.3700\n",
       "1  f431bd5a-ab7b-11e9-a2fc-000d3a38a36f   Android App             Mobile       2017-02-08      2021-02-16             2021-02-16              2020-01-10                      19.0000                        2.0000                           159.9700                         1853.5800  [ERKEK, COCUK, KADIN, AKTIFSPOR]    2717     1248    21.0000 2013.5500\n",
       "2  69b69676-1a40-11ea-941b-000d3a38a36f   Android App        Android App       2019-11-27      2020-11-27             2020-11-27              2019-12-01                       3.0000                        2.0000                           189.9700                          395.3500                    [ERKEK, KADIN]    1695     1329     5.0000  585.3200\n",
       "3  1854e56c-491f-11eb-806e-000d3a38a36f   Android App        Android App       2021-01-06      2021-01-17             2021-01-17              2021-01-06                       1.0000                        1.0000                            39.9900                           81.9800               [AKTIFCOCUK, COCUK]    1289     1278     2.0000  121.9700\n",
       "4  d6ea1074-f1f5-11e9-9346-000d3a38a36f       Desktop            Desktop       2019-08-03      2021-03-07             2021-03-07              2019-08-03                       1.0000                        1.0000                            49.9900                          159.9900                       [AKTIFSPOR]    1811     1229     2.0000  209.9800"
      ]
     },
     "execution_count": 3,
     "metadata": {},
     "output_type": "execute_result"
    }
   ],
   "source": [
    "df['tenure'] = (pd.to_datetime('today') - pd.to_datetime(df['first_order_date'])).dt.days\n",
    "df['recency'] = (pd.to_datetime('today') - pd.to_datetime(df['last_order_date'])).dt.days\n",
    "df['frequency'] = df['order_num_total_ever_online'] + df['order_num_total_ever_offline']\n",
    "df['monetary'] = df['customer_value_total_ever_online'] + df['customer_value_total_ever_offline']\n",
    "df.head()"
   ]
  },
  {
   "cell_type": "code",
   "execution_count": 4,
   "id": "52079c95",
   "metadata": {
    "execution": {
     "iopub.execute_input": "2024-07-18T08:17:28.024753Z",
     "iopub.status.busy": "2024-07-18T08:17:28.024382Z",
     "iopub.status.idle": "2024-07-18T08:17:28.091373Z",
     "shell.execute_reply": "2024-07-18T08:17:28.089937Z"
    },
    "papermill": {
     "duration": 0.081613,
     "end_time": "2024-07-18T08:17:28.094141",
     "exception": false,
     "start_time": "2024-07-18T08:17:28.012528",
     "status": "completed"
    },
    "tags": []
   },
   "outputs": [
    {
     "name": "stdout",
     "output_type": "stream",
     "text": [
      "Observations: 19945\n",
      "Variables: 16\n",
      "cat_cols: 2\n",
      "num_cols: 8\n",
      "cat_but_car: 6\n",
      "num_but_cat: 0\n"
     ]
    }
   ],
   "source": [
    "def grab_col_names(dataframe, cat_th=10, car_th=20):\n",
    "    cat_cols = [col for col in dataframe.columns if dataframe[col].dtypes == \"O\"]\n",
    "    num_but_cat = [col for col in dataframe.columns if dataframe[col].nunique() < cat_th and\n",
    "                   dataframe[col].dtypes != \"O\"]\n",
    "    cat_but_car = [col for col in dataframe.columns if dataframe[col].nunique() > car_th and\n",
    "                   dataframe[col].dtypes == \"O\"]\n",
    "    cat_cols = cat_cols + num_but_cat\n",
    "    cat_cols = [col for col in cat_cols if col not in cat_but_car]\n",
    "\n",
    "    num_cols = [col for col in dataframe.columns if dataframe[col].dtypes != \"O\"]\n",
    "    num_cols = [col for col in num_cols if col not in num_but_cat]\n",
    "\n",
    "    print(f\"Observations: {dataframe.shape[0]}\")\n",
    "    print(f\"Variables: {dataframe.shape[1]}\")\n",
    "    print(f'cat_cols: {len(cat_cols)}')\n",
    "    print(f'num_cols: {len(num_cols)}')\n",
    "    print(f'cat_but_car: {len(cat_but_car)}')\n",
    "    print(f'num_but_cat: {len(num_but_cat)}')\n",
    "    return cat_cols, num_cols, cat_but_car\n",
    "\n",
    "cat_cols, num_cols, cat_but_car = grab_col_names(df, cat_th=10, car_th=20)"
   ]
  },
  {
   "cell_type": "code",
   "execution_count": 5,
   "id": "53d5bf6d",
   "metadata": {
    "execution": {
     "iopub.execute_input": "2024-07-18T08:17:28.115281Z",
     "iopub.status.busy": "2024-07-18T08:17:28.114896Z",
     "iopub.status.idle": "2024-07-18T08:17:28.132339Z",
     "shell.execute_reply": "2024-07-18T08:17:28.131048Z"
    },
    "papermill": {
     "duration": 0.031264,
     "end_time": "2024-07-18T08:17:28.134992",
     "exception": false,
     "start_time": "2024-07-18T08:17:28.103728",
     "status": "completed"
    },
    "tags": []
   },
   "outputs": [
    {
     "data": {
      "text/html": [
       "<div>\n",
       "<style scoped>\n",
       "    .dataframe tbody tr th:only-of-type {\n",
       "        vertical-align: middle;\n",
       "    }\n",
       "\n",
       "    .dataframe tbody tr th {\n",
       "        vertical-align: top;\n",
       "    }\n",
       "\n",
       "    .dataframe thead th {\n",
       "        text-align: right;\n",
       "    }\n",
       "</style>\n",
       "<table border=\"1\" class=\"dataframe\">\n",
       "  <thead>\n",
       "    <tr style=\"text-align: right;\">\n",
       "      <th></th>\n",
       "      <th>order_num_total_ever_online</th>\n",
       "      <th>order_num_total_ever_offline</th>\n",
       "      <th>customer_value_total_ever_offline</th>\n",
       "      <th>customer_value_total_ever_online</th>\n",
       "      <th>tenure</th>\n",
       "      <th>recency</th>\n",
       "      <th>frequency</th>\n",
       "      <th>monetary</th>\n",
       "    </tr>\n",
       "  </thead>\n",
       "  <tbody>\n",
       "    <tr>\n",
       "      <th>0</th>\n",
       "      <td>4.0000</td>\n",
       "      <td>1.0000</td>\n",
       "      <td>139.9900</td>\n",
       "      <td>799.3800</td>\n",
       "      <td>1357</td>\n",
       "      <td>1238</td>\n",
       "      <td>5.0000</td>\n",
       "      <td>939.3700</td>\n",
       "    </tr>\n",
       "    <tr>\n",
       "      <th>1</th>\n",
       "      <td>19.0000</td>\n",
       "      <td>2.0000</td>\n",
       "      <td>159.9700</td>\n",
       "      <td>1853.5800</td>\n",
       "      <td>2717</td>\n",
       "      <td>1248</td>\n",
       "      <td>21.0000</td>\n",
       "      <td>2013.5500</td>\n",
       "    </tr>\n",
       "    <tr>\n",
       "      <th>2</th>\n",
       "      <td>3.0000</td>\n",
       "      <td>2.0000</td>\n",
       "      <td>189.9700</td>\n",
       "      <td>395.3500</td>\n",
       "      <td>1695</td>\n",
       "      <td>1329</td>\n",
       "      <td>5.0000</td>\n",
       "      <td>585.3200</td>\n",
       "    </tr>\n",
       "    <tr>\n",
       "      <th>3</th>\n",
       "      <td>1.0000</td>\n",
       "      <td>1.0000</td>\n",
       "      <td>39.9900</td>\n",
       "      <td>81.9800</td>\n",
       "      <td>1289</td>\n",
       "      <td>1278</td>\n",
       "      <td>2.0000</td>\n",
       "      <td>121.9700</td>\n",
       "    </tr>\n",
       "    <tr>\n",
       "      <th>4</th>\n",
       "      <td>1.0000</td>\n",
       "      <td>1.0000</td>\n",
       "      <td>49.9900</td>\n",
       "      <td>159.9900</td>\n",
       "      <td>1811</td>\n",
       "      <td>1229</td>\n",
       "      <td>2.0000</td>\n",
       "      <td>209.9800</td>\n",
       "    </tr>\n",
       "  </tbody>\n",
       "</table>\n",
       "</div>"
      ],
      "text/plain": [
       "   order_num_total_ever_online  order_num_total_ever_offline  customer_value_total_ever_offline  customer_value_total_ever_online  tenure  recency  frequency  monetary\n",
       "0                       4.0000                        1.0000                           139.9900                          799.3800    1357     1238     5.0000  939.3700\n",
       "1                      19.0000                        2.0000                           159.9700                         1853.5800    2717     1248    21.0000 2013.5500\n",
       "2                       3.0000                        2.0000                           189.9700                          395.3500    1695     1329     5.0000  585.3200\n",
       "3                       1.0000                        1.0000                            39.9900                           81.9800    1289     1278     2.0000  121.9700\n",
       "4                       1.0000                        1.0000                            49.9900                          159.9900    1811     1229     2.0000  209.9800"
      ]
     },
     "execution_count": 5,
     "metadata": {},
     "output_type": "execute_result"
    }
   ],
   "source": [
    "model_df= df[num_cols]\n",
    "model_df.head()"
   ]
  },
  {
   "cell_type": "code",
   "execution_count": 6,
   "id": "8f23e0b1",
   "metadata": {
    "execution": {
     "iopub.execute_input": "2024-07-18T08:17:28.156422Z",
     "iopub.status.busy": "2024-07-18T08:17:28.156036Z",
     "iopub.status.idle": "2024-07-18T08:17:28.184510Z",
     "shell.execute_reply": "2024-07-18T08:17:28.182918Z"
    },
    "papermill": {
     "duration": 0.042698,
     "end_time": "2024-07-18T08:17:28.187509",
     "exception": false,
     "start_time": "2024-07-18T08:17:28.144811",
     "status": "completed"
    },
    "tags": []
   },
   "outputs": [
    {
     "name": "stderr",
     "output_type": "stream",
     "text": [
      "/tmp/ipykernel_18/1077639853.py:5: FutureWarning: Setting an item of incompatible dtype is deprecated and will raise in a future error of pandas. Value '[7.12205988 7.13009851 7.19293422 ... 7.04925484 7.13249755 7.3158835 ]' has dtype incompatible with int64, please explicitly cast to a compatible dtype first.\n",
      "  model_df.loc[:, 'recency'] = np.log1p(model_df['recency'])\n",
      "/tmp/ipykernel_18/1077639853.py:6: FutureWarning: Setting an item of incompatible dtype is deprecated and will raise in a future error of pandas. Value '[7.21376831 7.90765159 7.43602782 ... 7.48042831 7.57095858 7.48493028]' has dtype incompatible with int64, please explicitly cast to a compatible dtype first.\n",
      "  model_df.loc[:, 'tenure'] = np.log1p(model_df['tenure'])\n"
     ]
    },
    {
     "data": {
      "text/html": [
       "<div>\n",
       "<style scoped>\n",
       "    .dataframe tbody tr th:only-of-type {\n",
       "        vertical-align: middle;\n",
       "    }\n",
       "\n",
       "    .dataframe tbody tr th {\n",
       "        vertical-align: top;\n",
       "    }\n",
       "\n",
       "    .dataframe thead th {\n",
       "        text-align: right;\n",
       "    }\n",
       "</style>\n",
       "<table border=\"1\" class=\"dataframe\">\n",
       "  <thead>\n",
       "    <tr style=\"text-align: right;\">\n",
       "      <th></th>\n",
       "      <th>order_num_total_ever_online</th>\n",
       "      <th>order_num_total_ever_offline</th>\n",
       "      <th>customer_value_total_ever_offline</th>\n",
       "      <th>customer_value_total_ever_online</th>\n",
       "      <th>tenure</th>\n",
       "      <th>recency</th>\n",
       "      <th>frequency</th>\n",
       "      <th>monetary</th>\n",
       "    </tr>\n",
       "  </thead>\n",
       "  <tbody>\n",
       "    <tr>\n",
       "      <th>0</th>\n",
       "      <td>1.6094</td>\n",
       "      <td>0.6931</td>\n",
       "      <td>4.9487</td>\n",
       "      <td>6.6851</td>\n",
       "      <td>7.2138</td>\n",
       "      <td>7.1221</td>\n",
       "      <td>1.7918</td>\n",
       "      <td>6.8463</td>\n",
       "    </tr>\n",
       "    <tr>\n",
       "      <th>1</th>\n",
       "      <td>2.9957</td>\n",
       "      <td>1.0986</td>\n",
       "      <td>5.0812</td>\n",
       "      <td>7.5254</td>\n",
       "      <td>7.9077</td>\n",
       "      <td>7.1301</td>\n",
       "      <td>3.0910</td>\n",
       "      <td>7.6082</td>\n",
       "    </tr>\n",
       "    <tr>\n",
       "      <th>2</th>\n",
       "      <td>1.3863</td>\n",
       "      <td>1.0986</td>\n",
       "      <td>5.2521</td>\n",
       "      <td>5.9823</td>\n",
       "      <td>7.4360</td>\n",
       "      <td>7.1929</td>\n",
       "      <td>1.7918</td>\n",
       "      <td>6.3739</td>\n",
       "    </tr>\n",
       "    <tr>\n",
       "      <th>3</th>\n",
       "      <td>0.6931</td>\n",
       "      <td>0.6931</td>\n",
       "      <td>3.7133</td>\n",
       "      <td>4.4186</td>\n",
       "      <td>7.1624</td>\n",
       "      <td>7.1538</td>\n",
       "      <td>1.0986</td>\n",
       "      <td>4.8119</td>\n",
       "    </tr>\n",
       "    <tr>\n",
       "      <th>4</th>\n",
       "      <td>0.6931</td>\n",
       "      <td>0.6931</td>\n",
       "      <td>3.9316</td>\n",
       "      <td>5.0813</td>\n",
       "      <td>7.5022</td>\n",
       "      <td>7.1148</td>\n",
       "      <td>1.0986</td>\n",
       "      <td>5.3518</td>\n",
       "    </tr>\n",
       "  </tbody>\n",
       "</table>\n",
       "</div>"
      ],
      "text/plain": [
       "   order_num_total_ever_online  order_num_total_ever_offline  customer_value_total_ever_offline  customer_value_total_ever_online  tenure  recency  frequency  monetary\n",
       "0                       1.6094                        0.6931                             4.9487                            6.6851  7.2138   7.1221     1.7918    6.8463\n",
       "1                       2.9957                        1.0986                             5.0812                            7.5254  7.9077   7.1301     3.0910    7.6082\n",
       "2                       1.3863                        1.0986                             5.2521                            5.9823  7.4360   7.1929     1.7918    6.3739\n",
       "3                       0.6931                        0.6931                             3.7133                            4.4186  7.1624   7.1538     1.0986    4.8119\n",
       "4                       0.6931                        0.6931                             3.9316                            5.0813  7.5022   7.1148     1.0986    5.3518"
      ]
     },
     "execution_count": 6,
     "metadata": {},
     "output_type": "execute_result"
    }
   ],
   "source": [
    "model_df.loc[:, 'order_num_total_ever_online'] = np.log1p(model_df['order_num_total_ever_online'])\n",
    "model_df.loc[:, 'order_num_total_ever_offline'] = np.log1p(model_df['order_num_total_ever_offline'])\n",
    "model_df.loc[:, 'customer_value_total_ever_offline'] = np.log1p(model_df['customer_value_total_ever_offline'])\n",
    "model_df.loc[:, 'customer_value_total_ever_online'] = np.log1p(model_df['customer_value_total_ever_online'])\n",
    "model_df.loc[:, 'recency'] = np.log1p(model_df['recency'])\n",
    "model_df.loc[:, 'tenure'] = np.log1p(model_df['tenure'])\n",
    "model_df.loc[:, 'frequency'] = np.log1p(model_df['frequency'])\n",
    "model_df.loc[:, 'monetary'] = np.log1p(model_df['monetary'])\n",
    "\n",
    "model_df.head()"
   ]
  },
  {
   "cell_type": "code",
   "execution_count": 7,
   "id": "8fce2ca4",
   "metadata": {
    "execution": {
     "iopub.execute_input": "2024-07-18T08:17:28.210082Z",
     "iopub.status.busy": "2024-07-18T08:17:28.209669Z",
     "iopub.status.idle": "2024-07-18T08:17:28.226294Z",
     "shell.execute_reply": "2024-07-18T08:17:28.225119Z"
    },
    "papermill": {
     "duration": 0.031315,
     "end_time": "2024-07-18T08:17:28.229317",
     "exception": false,
     "start_time": "2024-07-18T08:17:28.198002",
     "status": "completed"
    },
    "tags": []
   },
   "outputs": [
    {
     "data": {
      "text/plain": [
       "array([[0.19875475, 0.        , 0.34438148, 0.50077408, 0.12883764,\n",
       "        0.2822013 , 0.16446358, 0.43701169],\n",
       "       [0.49945907, 0.10118078, 0.36227417, 0.60476237, 0.66376903,\n",
       "        0.31127472, 0.47274549, 0.54733048],\n",
       "       [0.15035216, 0.10118078, 0.38534707, 0.41380577, 0.30018286,\n",
       "        0.53853353, 0.16446358, 0.36860775],\n",
       "       [0.        , 0.        , 0.17759598, 0.22030218, 0.08923464,\n",
       "        0.39711849, 0.        , 0.14244324],\n",
       "       [0.        , 0.        , 0.20706876, 0.30231487, 0.35118618,\n",
       "        0.25583389, 0.        , 0.22060881]])"
      ]
     },
     "execution_count": 7,
     "metadata": {},
     "output_type": "execute_result"
    }
   ],
   "source": [
    "model_scaling = MinMaxScaler().fit_transform(model_df)\n",
    "model_scaling[0:5]"
   ]
  },
  {
   "cell_type": "code",
   "execution_count": 8,
   "id": "f67b507a",
   "metadata": {
    "execution": {
     "iopub.execute_input": "2024-07-18T08:17:28.253202Z",
     "iopub.status.busy": "2024-07-18T08:17:28.252205Z",
     "iopub.status.idle": "2024-07-18T08:17:28.267403Z",
     "shell.execute_reply": "2024-07-18T08:17:28.266101Z"
    },
    "papermill": {
     "duration": 0.030179,
     "end_time": "2024-07-18T08:17:28.270035",
     "exception": false,
     "start_time": "2024-07-18T08:17:28.239856",
     "status": "completed"
    },
    "tags": []
   },
   "outputs": [
    {
     "data": {
      "text/html": [
       "<div>\n",
       "<style scoped>\n",
       "    .dataframe tbody tr th:only-of-type {\n",
       "        vertical-align: middle;\n",
       "    }\n",
       "\n",
       "    .dataframe tbody tr th {\n",
       "        vertical-align: top;\n",
       "    }\n",
       "\n",
       "    .dataframe thead th {\n",
       "        text-align: right;\n",
       "    }\n",
       "</style>\n",
       "<table border=\"1\" class=\"dataframe\">\n",
       "  <thead>\n",
       "    <tr style=\"text-align: right;\">\n",
       "      <th></th>\n",
       "      <th>order_num_total_ever_online</th>\n",
       "      <th>order_num_total_ever_offline</th>\n",
       "      <th>customer_value_total_ever_offline</th>\n",
       "      <th>customer_value_total_ever_online</th>\n",
       "      <th>tenure</th>\n",
       "      <th>recency</th>\n",
       "      <th>frequency</th>\n",
       "      <th>monetary</th>\n",
       "    </tr>\n",
       "  </thead>\n",
       "  <tbody>\n",
       "    <tr>\n",
       "      <th>0</th>\n",
       "      <td>0.1988</td>\n",
       "      <td>0.0000</td>\n",
       "      <td>0.3444</td>\n",
       "      <td>0.5008</td>\n",
       "      <td>0.1288</td>\n",
       "      <td>0.2822</td>\n",
       "      <td>0.1645</td>\n",
       "      <td>0.4370</td>\n",
       "    </tr>\n",
       "    <tr>\n",
       "      <th>1</th>\n",
       "      <td>0.4995</td>\n",
       "      <td>0.1012</td>\n",
       "      <td>0.3623</td>\n",
       "      <td>0.6048</td>\n",
       "      <td>0.6638</td>\n",
       "      <td>0.3113</td>\n",
       "      <td>0.4727</td>\n",
       "      <td>0.5473</td>\n",
       "    </tr>\n",
       "    <tr>\n",
       "      <th>2</th>\n",
       "      <td>0.1504</td>\n",
       "      <td>0.1012</td>\n",
       "      <td>0.3853</td>\n",
       "      <td>0.4138</td>\n",
       "      <td>0.3002</td>\n",
       "      <td>0.5385</td>\n",
       "      <td>0.1645</td>\n",
       "      <td>0.3686</td>\n",
       "    </tr>\n",
       "    <tr>\n",
       "      <th>3</th>\n",
       "      <td>0.0000</td>\n",
       "      <td>0.0000</td>\n",
       "      <td>0.1776</td>\n",
       "      <td>0.2203</td>\n",
       "      <td>0.0892</td>\n",
       "      <td>0.3971</td>\n",
       "      <td>0.0000</td>\n",
       "      <td>0.1424</td>\n",
       "    </tr>\n",
       "    <tr>\n",
       "      <th>4</th>\n",
       "      <td>0.0000</td>\n",
       "      <td>0.0000</td>\n",
       "      <td>0.2071</td>\n",
       "      <td>0.3023</td>\n",
       "      <td>0.3512</td>\n",
       "      <td>0.2558</td>\n",
       "      <td>0.0000</td>\n",
       "      <td>0.2206</td>\n",
       "    </tr>\n",
       "  </tbody>\n",
       "</table>\n",
       "</div>"
      ],
      "text/plain": [
       "   order_num_total_ever_online  order_num_total_ever_offline  customer_value_total_ever_offline  customer_value_total_ever_online  tenure  recency  frequency  monetary\n",
       "0                       0.1988                        0.0000                             0.3444                            0.5008  0.1288   0.2822     0.1645    0.4370\n",
       "1                       0.4995                        0.1012                             0.3623                            0.6048  0.6638   0.3113     0.4727    0.5473\n",
       "2                       0.1504                        0.1012                             0.3853                            0.4138  0.3002   0.5385     0.1645    0.3686\n",
       "3                       0.0000                        0.0000                             0.1776                            0.2203  0.0892   0.3971     0.0000    0.1424\n",
       "4                       0.0000                        0.0000                             0.2071                            0.3023  0.3512   0.2558     0.0000    0.2206"
      ]
     },
     "execution_count": 8,
     "metadata": {},
     "output_type": "execute_result"
    }
   ],
   "source": [
    "model_df = pd.DataFrame(model_scaling, columns= model_df.columns)\n",
    "model_df.head()"
   ]
  },
  {
   "cell_type": "code",
   "execution_count": 9,
   "id": "2fde666c",
   "metadata": {
    "execution": {
     "iopub.execute_input": "2024-07-18T08:17:28.294177Z",
     "iopub.status.busy": "2024-07-18T08:17:28.293749Z",
     "iopub.status.idle": "2024-07-18T08:18:04.680928Z",
     "shell.execute_reply": "2024-07-18T08:18:04.679897Z"
    },
    "papermill": {
     "duration": 36.414507,
     "end_time": "2024-07-18T08:18:04.695490",
     "exception": false,
     "start_time": "2024-07-18T08:17:28.280983",
     "status": "completed"
    },
    "tags": []
   },
   "outputs": [
    {
     "data": {
      "image/png": "[encoded data removed]",
      "text/plain": [
       "<Figure size 800x550 with 2 Axes>"
      ]
     },
     "metadata": {},
     "output_type": "display_data"
    },
    {
     "data": {
      "text/plain": [
       "<Axes: title={'center': 'Distortion Score Elbow for KMeans Clustering'}, xlabel='k', ylabel='distortion score'>"
      ]
     },
     "execution_count": 9,
     "metadata": {},
     "output_type": "execute_result"
    },
    {
     "data": {
      "text/plain": [
       "7"
      ]
     },
     "execution_count": 9,
     "metadata": {},
     "output_type": "execute_result"
    }
   ],
   "source": [
    "kmeans = KMeans()\n",
    "elbow = KElbowVisualizer(kmeans, k=(2,20)).fit(model_df)\n",
    "elbow.show()\n",
    "\n",
    "elbow.elbow_value_"
   ]
  },
  {
   "cell_type": "code",
   "execution_count": 10,
   "id": "7efa98bf",
   "metadata": {
    "execution": {
     "iopub.execute_input": "2024-07-18T08:18:04.723006Z",
     "iopub.status.busy": "2024-07-18T08:18:04.721689Z",
     "iopub.status.idle": "2024-07-18T08:18:06.372861Z",
     "shell.execute_reply": "2024-07-18T08:18:06.371559Z"
    },
    "papermill": {
     "duration": 1.668212,
     "end_time": "2024-07-18T08:18:06.375843",
     "exception": false,
     "start_time": "2024-07-18T08:18:04.707631",
     "status": "completed"
    },
    "tags": []
   },
   "outputs": [
    {
     "data": {
      "text/plain": [
       "array([[0.04723492, 0.0425864 , 0.34835394, 0.33013364, 0.32188119,\n",
       "        0.48474398, 0.06448001, 0.31019892],\n",
       "       [0.03225369, 0.02856636, 0.33428681, 0.31374284, 0.26961165,\n",
       "        0.1372701 , 0.04376117, 0.28976788],\n",
       "       [0.06624502, 0.19873619, 0.50951047, 0.35074755, 0.4031265 ,\n",
       "        0.20798773, 0.17593479, 0.40841923],\n",
       "       [0.35807653, 0.09194468, 0.38419728, 0.55281663, 0.71881535,\n",
       "        0.20423389, 0.3444436 , 0.5078629 ],\n",
       "       [0.23835774, 0.05588187, 0.36305419, 0.50963554, 0.33833197,\n",
       "        0.1509417 , 0.22162986, 0.4561776 ],\n",
       "       [0.04539252, 0.053907  , 0.35094525, 0.32145952, 0.36148805,\n",
       "        0.84968024, 0.07038365, 0.3066376 ],\n",
       "       [0.21181778, 0.08801205, 0.38887409, 0.45404536, 0.61436537,\n",
       "        0.67644581, 0.21953997, 0.42609204]])"
      ]
     },
     "execution_count": 10,
     "metadata": {},
     "output_type": "execute_result"
    },
    {
     "data": {
      "text/plain": [
       "1410.543636430784"
      ]
     },
     "execution_count": 10,
     "metadata": {},
     "output_type": "execute_result"
    },
    {
     "data": {
      "text/plain": [
       "array([4, 3, 0, ..., 1, 2, 5], dtype=int32)"
      ]
     },
     "execution_count": 10,
     "metadata": {},
     "output_type": "execute_result"
    }
   ],
   "source": [
    "k_means = KMeans(n_clusters = elbow.elbow_value_, random_state = 40).fit(model_df)\n",
    "\n",
    "k_means.cluster_centers_\n",
    "k_means.inertia_\n",
    "k_means.labels_"
   ]
  },
  {
   "cell_type": "code",
   "execution_count": 11,
   "id": "3678f485",
   "metadata": {
    "execution": {
     "iopub.execute_input": "2024-07-18T08:18:06.403327Z",
     "iopub.status.busy": "2024-07-18T08:18:06.402909Z",
     "iopub.status.idle": "2024-07-18T08:18:06.422098Z",
     "shell.execute_reply": "2024-07-18T08:18:06.420783Z"
    },
    "papermill": {
     "duration": 0.036137,
     "end_time": "2024-07-18T08:18:06.424767",
     "exception": false,
     "start_time": "2024-07-18T08:18:06.388630",
     "status": "completed"
    },
    "tags": []
   },
   "outputs": [
    {
     "name": "stderr",
     "output_type": "stream",
     "text": [
      "/tmp/ipykernel_18/2992533146.py:3: SettingWithCopyWarning: \n",
      "A value is trying to be set on a copy of a slice from a DataFrame.\n",
      "Try using .loc[row_indexer,col_indexer] = value instead\n",
      "\n",
      "See the caveats in the documentation: https://pandas.pydata.org/pandas-docs/stable/user_guide/indexing.html#returning-a-view-versus-a-copy\n",
      "  final_df[\"segment\"] = cluster\n"
     ]
    },
    {
     "data": {
      "text/html": [
       "<div>\n",
       "<style scoped>\n",
       "    .dataframe tbody tr th:only-of-type {\n",
       "        vertical-align: middle;\n",
       "    }\n",
       "\n",
       "    .dataframe tbody tr th {\n",
       "        vertical-align: top;\n",
       "    }\n",
       "\n",
       "    .dataframe thead th {\n",
       "        text-align: right;\n",
       "    }\n",
       "</style>\n",
       "<table border=\"1\" class=\"dataframe\">\n",
       "  <thead>\n",
       "    <tr style=\"text-align: right;\">\n",
       "      <th></th>\n",
       "      <th>order_num_total_ever_online</th>\n",
       "      <th>order_num_total_ever_offline</th>\n",
       "      <th>customer_value_total_ever_offline</th>\n",
       "      <th>customer_value_total_ever_online</th>\n",
       "      <th>tenure</th>\n",
       "      <th>recency</th>\n",
       "      <th>frequency</th>\n",
       "      <th>monetary</th>\n",
       "      <th>segment</th>\n",
       "    </tr>\n",
       "  </thead>\n",
       "  <tbody>\n",
       "    <tr>\n",
       "      <th>0</th>\n",
       "      <td>4.0000</td>\n",
       "      <td>1.0000</td>\n",
       "      <td>139.9900</td>\n",
       "      <td>799.3800</td>\n",
       "      <td>1357</td>\n",
       "      <td>1238</td>\n",
       "      <td>5.0000</td>\n",
       "      <td>939.3700</td>\n",
       "      <td>4</td>\n",
       "    </tr>\n",
       "    <tr>\n",
       "      <th>1</th>\n",
       "      <td>19.0000</td>\n",
       "      <td>2.0000</td>\n",
       "      <td>159.9700</td>\n",
       "      <td>1853.5800</td>\n",
       "      <td>2717</td>\n",
       "      <td>1248</td>\n",
       "      <td>21.0000</td>\n",
       "      <td>2013.5500</td>\n",
       "      <td>3</td>\n",
       "    </tr>\n",
       "    <tr>\n",
       "      <th>2</th>\n",
       "      <td>3.0000</td>\n",
       "      <td>2.0000</td>\n",
       "      <td>189.9700</td>\n",
       "      <td>395.3500</td>\n",
       "      <td>1695</td>\n",
       "      <td>1329</td>\n",
       "      <td>5.0000</td>\n",
       "      <td>585.3200</td>\n",
       "      <td>0</td>\n",
       "    </tr>\n",
       "    <tr>\n",
       "      <th>3</th>\n",
       "      <td>1.0000</td>\n",
       "      <td>1.0000</td>\n",
       "      <td>39.9900</td>\n",
       "      <td>81.9800</td>\n",
       "      <td>1289</td>\n",
       "      <td>1278</td>\n",
       "      <td>2.0000</td>\n",
       "      <td>121.9700</td>\n",
       "      <td>0</td>\n",
       "    </tr>\n",
       "    <tr>\n",
       "      <th>4</th>\n",
       "      <td>1.0000</td>\n",
       "      <td>1.0000</td>\n",
       "      <td>49.9900</td>\n",
       "      <td>159.9900</td>\n",
       "      <td>1811</td>\n",
       "      <td>1229</td>\n",
       "      <td>2.0000</td>\n",
       "      <td>209.9800</td>\n",
       "      <td>1</td>\n",
       "    </tr>\n",
       "  </tbody>\n",
       "</table>\n",
       "</div>"
      ],
      "text/plain": [
       "   order_num_total_ever_online  order_num_total_ever_offline  customer_value_total_ever_offline  customer_value_total_ever_online  tenure  recency  frequency  monetary  segment\n",
       "0                       4.0000                        1.0000                           139.9900                          799.3800    1357     1238     5.0000  939.3700        4\n",
       "1                      19.0000                        2.0000                           159.9700                         1853.5800    2717     1248    21.0000 2013.5500        3\n",
       "2                       3.0000                        2.0000                           189.9700                          395.3500    1695     1329     5.0000  585.3200        0\n",
       "3                       1.0000                        1.0000                            39.9900                           81.9800    1289     1278     2.0000  121.9700        0\n",
       "4                       1.0000                        1.0000                            49.9900                          159.9900    1811     1229     2.0000  209.9800        1"
      ]
     },
     "execution_count": 11,
     "metadata": {},
     "output_type": "execute_result"
    }
   ],
   "source": [
    "cluster = k_means.labels_\n",
    "final_df = df[num_cols]\n",
    "final_df[\"segment\"] = cluster\n",
    "final_df.head()"
   ]
  },
  {
   "cell_type": "code",
   "execution_count": 12,
   "id": "59354002",
   "metadata": {
    "execution": {
     "iopub.execute_input": "2024-07-18T08:18:06.453601Z",
     "iopub.status.busy": "2024-07-18T08:18:06.452767Z",
     "iopub.status.idle": "2024-07-18T08:18:06.856235Z",
     "shell.execute_reply": "2024-07-18T08:18:06.854628Z"
    },
    "papermill": {
     "duration": 0.421102,
     "end_time": "2024-07-18T08:18:06.859312",
     "exception": false,
     "start_time": "2024-07-18T08:18:06.438210",
     "status": "completed"
    },
    "tags": []
   },
   "outputs": [
    {
     "name": "stderr",
     "output_type": "stream",
     "text": [
      "/opt/conda/lib/python3.10/site-packages/seaborn/_oldcore.py:1119: FutureWarning: use_inf_as_na option is deprecated and will be removed in a future version. Convert inf values to NaN before operating instead.\n",
      "  with pd.option_context('mode.use_inf_as_na', True):\n"
     ]
    },
    {
     "data": {
      "image/png": "[encoded data removed]",
      "text/plain": [
       "<Figure size 800x550 with 1 Axes>"
      ]
     },
     "metadata": {},
     "output_type": "display_data"
    }
   ],
   "source": [
    "sns.histplot(cluster, bins=range(8), kde=False)\n",
    "plt.xlabel('Segment')\n",
    "plt.ylabel('Count')\n",
    "plt.title('Distribution of Clusters')\n",
    "plt.show();"
   ]
  },
  {
   "cell_type": "code",
   "execution_count": 13,
   "id": "f3d92adb",
   "metadata": {
    "execution": {
     "iopub.execute_input": "2024-07-18T08:18:06.889698Z",
     "iopub.status.busy": "2024-07-18T08:18:06.888624Z",
     "iopub.status.idle": "2024-07-18T08:18:07.038517Z",
     "shell.execute_reply": "2024-07-18T08:18:07.037352Z"
    },
    "papermill": {
     "duration": 0.169784,
     "end_time": "2024-07-18T08:18:07.042887",
     "exception": false,
     "start_time": "2024-07-18T08:18:06.873103",
     "status": "completed"
    },
    "tags": []
   },
   "outputs": [
    {
     "name": "stdout",
     "output_type": "stream",
     "text": [
      "segment                                         0         1          2          3          4         5         6\n",
      "order_num_total_ever_online       count 4283.0000 4101.0000  2674.0000  1265.0000  2784.0000 2963.0000 1875.0000\n",
      "                                  mean     1.6103    1.3911     1.8680    11.6925     5.5108    1.5916    5.1200\n",
      "                                  std      0.9055    0.6272     1.0359    10.7396     2.9551    0.9311    3.7222\n",
      "                                  min      1.0000    1.0000     1.0000     2.0000     1.0000    1.0000    1.0000\n",
      "                                  25%      1.0000    1.0000     1.0000     6.0000     4.0000    1.0000    3.0000\n",
      "                                  50%      1.0000    1.0000     2.0000     9.0000     5.0000    1.0000    4.0000\n",
      "                                  75%      2.0000    2.0000     2.0000    14.0000     7.0000    2.0000    6.0000\n",
      "                                  max      6.0000    5.0000     8.0000   200.0000    28.0000    8.0000   54.0000\n",
      "order_num_total_ever_offline      count 4283.0000 4101.0000  2674.0000  1265.0000  2784.0000 2963.0000 1875.0000\n",
      "                                  mean     1.4595    1.2887     3.8844     2.2324     1.6336    1.6173    2.1792\n",
      "                                  std      0.7417    0.5104     3.9560     2.0630     0.9531    0.9983    2.8429\n",
      "                                  min      1.0000    1.0000     1.0000     1.0000     1.0000    1.0000    1.0000\n",
      "                                  25%      1.0000    1.0000     2.0000     1.0000     1.0000    1.0000    1.0000\n",
      "                                  50%      1.0000    1.0000     3.0000     2.0000     1.0000    1.0000    2.0000\n",
      "                                  75%      2.0000    2.0000     4.0000     3.0000     2.0000    2.0000    3.0000\n",
      "                                  max      6.0000    4.0000   109.0000    36.0000    12.0000   13.0000   87.0000\n",
      "customer_value_total_ever_offline count 4283.0000 4101.0000  2674.0000  1265.0000  2784.0000 2963.0000 1875.0000\n",
      "                                  mean   186.6201  161.8664   570.8652   278.1315   215.2882  200.4421  282.5471\n",
      "                                  std    143.5996  113.5977   558.5102   286.6369   191.4383  173.7155  331.1019\n",
      "                                  min     10.4900   11.9800    85.8700    12.9900    14.9900   10.0000   12.9900\n",
      "                                  25%     89.9900   80.8800   323.8225    99.9900    99.9800   89.9800  109.9800\n",
      "                                  50%    149.9800  130.8800   459.4550   189.9800   164.9600  149.9900  199.9800\n",
      "                                  75%    243.8350  209.9800   669.6175   350.9600   280.5300  259.9800  359.9800\n",
      "                                  max   1671.4100 1406.8500 18119.1400  3589.6500  2951.4600 2055.8500 8432.2500\n",
      "customer_value_total_ever_online  count 4283.0000 4101.0000  2674.0000  1265.0000  2784.0000 2963.0000 1875.0000\n",
      "                                  mean   258.9475  215.0421   298.5272  1708.6826  1014.1574  250.9011  747.4891\n",
      "                                  std    194.9293  136.7349   212.9309  2327.1217   884.2050  215.7106  625.5547\n",
      "                                  min     18.7500   14.0000    14.9900    69.9900   187.9500   12.9900   22.9900\n",
      "                                  25%    119.5400  109.9900   149.9800   718.2700   588.5400  109.9900  338.2300\n",
      "                                  50%    205.9700  183.9400   247.4750  1214.2600   820.2500  189.9800  609.9200\n",
      "                                  75%    342.2000  288.0100   401.8625  2091.8800  1185.2575  319.9800  960.6000\n",
      "                                  max   2151.7200 1307.3300  2587.2000 45220.1300 30688.4700 2452.3000 7665.2800\n",
      "tenure                            count 4283.0000 4101.0000  2674.0000  1265.0000  2784.0000 2963.0000 1875.0000\n",
      "                                  mean  1760.9218 1651.4809  1972.8837  2971.8427  1797.1602 1857.9187 2624.6347\n",
      "                                  std    263.8061  284.9840   413.1129   541.7130   236.6648  316.8118  640.4043\n",
      "                                  min   1262.0000 1148.0000  1189.0000  1614.0000  1175.0000 1396.0000 1384.0000\n",
      "                                  25%   1624.0000 1463.0000  1740.2500  2564.0000  1663.0000 1677.0000 2060.5000\n",
      "                                  50%   1735.0000 1673.0000  1884.0000  2922.0000  1779.0000 1785.0000 2521.0000\n",
      "                                  75%   1879.0000 1793.0000  1977.0000  3397.0000  1943.0000 1948.0000 3160.0000\n",
      "                                  max   3792.0000 3726.0000  3941.0000  4203.0000  2743.0000 3660.0000 4190.0000\n",
      "recency                           count 4283.0000 4101.0000  2674.0000  1265.0000  2784.0000 2963.0000 1875.0000\n",
      "                                  mean  1309.8188 1189.6584  1213.6597  1212.6854  1194.6498 1449.0223 1382.0976\n",
      "                                  std     35.0354   31.2208    44.2496    49.9090    40.5070   39.3215   60.4017\n",
      "                                  min   1233.0000 1145.0000  1145.0000  1145.0000  1145.0000 1364.0000 1248.0000\n",
      "                                  25%   1278.0000 1164.0000  1177.0000  1170.0000  1163.0000 1412.0000 1334.0000\n",
      "                                  50%   1311.0000 1183.0000  1211.0000  1206.0000  1182.0000 1457.0000 1377.0000\n",
      "                                  75%   1337.0000 1216.0000  1245.7500  1248.0000  1221.0000 1482.0000 1427.0000\n",
      "                                  max   1383.0000 1263.0000  1367.0000  1399.0000  1350.0000 1510.0000 1510.0000\n",
      "frequency                         count 4283.0000 4101.0000  2674.0000  1265.0000  2784.0000 2963.0000 1875.0000\n",
      "                                  mean     3.0698    2.6798     5.7524    13.9249     7.1444    3.2089    7.2992\n",
      "                                  std      1.0969    0.7514     4.1664    10.9378     3.2095    1.3142    4.4567\n",
      "                                  min      2.0000    2.0000     2.0000     3.0000     3.0000    2.0000    2.0000\n",
      "                                  25%      2.0000    2.0000     4.0000     8.0000     5.0000    2.0000    5.0000\n",
      "                                  50%      3.0000    3.0000     5.0000    11.0000     6.0000    3.0000    6.0000\n",
      "                                  75%      4.0000    3.0000     6.0000    17.0000     8.0000    4.0000    9.0000\n",
      "                                  max      8.0000    6.0000   111.0000   202.0000    31.0000   14.0000   88.0000\n",
      "monetary                          count 4283.0000 4101.0000  2674.0000  1265.0000  2784.0000 2963.0000 1875.0000\n",
      "                                  mean   445.5676  376.9085   869.3925  1986.8142  1229.4455  451.3432 1030.0363\n",
      "                                  std    234.5256  174.3950   642.8067  2363.2463   923.3711  275.6377  683.6411\n",
      "                                  min     57.4800   44.9800   131.7400   130.8700   273.9300   44.9800   90.4800\n",
      "                                  25%    274.9700  251.4700   561.4925   966.3600   767.8625  257.5350  607.4300\n",
      "                                  50%    401.2200  348.7300   752.4500  1502.9100  1031.7950  390.9200  886.7000\n",
      "                                  75%    561.8850  470.3600  1022.8650  2385.9000  1445.0050  569.9250 1256.3350\n",
      "                                  max   2251.7100 1725.3800 20706.3400 45905.1000 31227.4100 2533.0400 8572.2300\n"
     ]
    },
    {
     "name": "stderr",
     "output_type": "stream",
     "text": [
      "/tmp/ipykernel_18/4180011828.py:1: SettingWithCopyWarning: \n",
      "A value is trying to be set on a copy of a slice from a DataFrame.\n",
      "Try using .loc[row_indexer,col_indexer] = value instead\n",
      "\n",
      "See the caveats in the documentation: https://pandas.pydata.org/pandas-docs/stable/user_guide/indexing.html#returning-a-view-versus-a-copy\n",
      "  final_df['segment'] = cluster\n"
     ]
    }
   ],
   "source": [
    "final_df['segment'] = cluster\n",
    "segment_summary = final_df.groupby('segment').describe().T\n",
    "print(segment_summary)"
   ]
  },
  {
   "cell_type": "markdown",
   "id": "358509e2",
   "metadata": {
    "papermill": {
     "duration": 0.013991,
     "end_time": "2024-07-18T08:18:07.071561",
     "exception": false,
     "start_time": "2024-07-18T08:18:07.057570",
     "status": "completed"
    },
    "tags": []
   },
   "source": [
    "# Hierarchical Cluster Analysis"
   ]
  },
  {
   "cell_type": "code",
   "execution_count": 14,
   "id": "0e3a5c75",
   "metadata": {
    "execution": {
     "iopub.execute_input": "2024-07-18T08:18:07.101768Z",
     "iopub.status.busy": "2024-07-18T08:18:07.101376Z",
     "iopub.status.idle": "2024-07-18T08:18:07.116184Z",
     "shell.execute_reply": "2024-07-18T08:18:07.114858Z"
    },
    "papermill": {
     "duration": 0.033243,
     "end_time": "2024-07-18T08:18:07.118950",
     "exception": false,
     "start_time": "2024-07-18T08:18:07.085707",
     "status": "completed"
    },
    "tags": []
   },
   "outputs": [
    {
     "data": {
      "text/html": [
       "<div>\n",
       "<style scoped>\n",
       "    .dataframe tbody tr th:only-of-type {\n",
       "        vertical-align: middle;\n",
       "    }\n",
       "\n",
       "    .dataframe tbody tr th {\n",
       "        vertical-align: top;\n",
       "    }\n",
       "\n",
       "    .dataframe thead th {\n",
       "        text-align: right;\n",
       "    }\n",
       "</style>\n",
       "<table border=\"1\" class=\"dataframe\">\n",
       "  <thead>\n",
       "    <tr style=\"text-align: right;\">\n",
       "      <th></th>\n",
       "      <th>order_num_total_ever_online</th>\n",
       "      <th>order_num_total_ever_offline</th>\n",
       "      <th>customer_value_total_ever_offline</th>\n",
       "      <th>customer_value_total_ever_online</th>\n",
       "      <th>tenure</th>\n",
       "      <th>recency</th>\n",
       "      <th>frequency</th>\n",
       "      <th>monetary</th>\n",
       "    </tr>\n",
       "  </thead>\n",
       "  <tbody>\n",
       "    <tr>\n",
       "      <th>0</th>\n",
       "      <td>0.1988</td>\n",
       "      <td>0.0000</td>\n",
       "      <td>0.3444</td>\n",
       "      <td>0.5008</td>\n",
       "      <td>0.1288</td>\n",
       "      <td>0.2822</td>\n",
       "      <td>0.1645</td>\n",
       "      <td>0.4370</td>\n",
       "    </tr>\n",
       "    <tr>\n",
       "      <th>1</th>\n",
       "      <td>0.4995</td>\n",
       "      <td>0.1012</td>\n",
       "      <td>0.3623</td>\n",
       "      <td>0.6048</td>\n",
       "      <td>0.6638</td>\n",
       "      <td>0.3113</td>\n",
       "      <td>0.4727</td>\n",
       "      <td>0.5473</td>\n",
       "    </tr>\n",
       "    <tr>\n",
       "      <th>2</th>\n",
       "      <td>0.1504</td>\n",
       "      <td>0.1012</td>\n",
       "      <td>0.3853</td>\n",
       "      <td>0.4138</td>\n",
       "      <td>0.3002</td>\n",
       "      <td>0.5385</td>\n",
       "      <td>0.1645</td>\n",
       "      <td>0.3686</td>\n",
       "    </tr>\n",
       "    <tr>\n",
       "      <th>3</th>\n",
       "      <td>0.0000</td>\n",
       "      <td>0.0000</td>\n",
       "      <td>0.1776</td>\n",
       "      <td>0.2203</td>\n",
       "      <td>0.0892</td>\n",
       "      <td>0.3971</td>\n",
       "      <td>0.0000</td>\n",
       "      <td>0.1424</td>\n",
       "    </tr>\n",
       "    <tr>\n",
       "      <th>4</th>\n",
       "      <td>0.0000</td>\n",
       "      <td>0.0000</td>\n",
       "      <td>0.2071</td>\n",
       "      <td>0.3023</td>\n",
       "      <td>0.3512</td>\n",
       "      <td>0.2558</td>\n",
       "      <td>0.0000</td>\n",
       "      <td>0.2206</td>\n",
       "    </tr>\n",
       "  </tbody>\n",
       "</table>\n",
       "</div>"
      ],
      "text/plain": [
       "   order_num_total_ever_online  order_num_total_ever_offline  customer_value_total_ever_offline  customer_value_total_ever_online  tenure  recency  frequency  monetary\n",
       "0                       0.1988                        0.0000                             0.3444                            0.5008  0.1288   0.2822     0.1645    0.4370\n",
       "1                       0.4995                        0.1012                             0.3623                            0.6048  0.6638   0.3113     0.4727    0.5473\n",
       "2                       0.1504                        0.1012                             0.3853                            0.4138  0.3002   0.5385     0.1645    0.3686\n",
       "3                       0.0000                        0.0000                             0.1776                            0.2203  0.0892   0.3971     0.0000    0.1424\n",
       "4                       0.0000                        0.0000                             0.2071                            0.3023  0.3512   0.2558     0.0000    0.2206"
      ]
     },
     "execution_count": 14,
     "metadata": {},
     "output_type": "execute_result"
    }
   ],
   "source": [
    "model_df.head()"
   ]
  },
  {
   "cell_type": "code",
   "execution_count": 15,
   "id": "6cab48dc",
   "metadata": {
    "execution": {
     "iopub.execute_input": "2024-07-18T08:18:07.149511Z",
     "iopub.status.busy": "2024-07-18T08:18:07.149111Z",
     "iopub.status.idle": "2024-07-18T08:18:44.116699Z",
     "shell.execute_reply": "2024-07-18T08:18:44.115498Z"
    },
    "papermill": {
     "duration": 37.001075,
     "end_time": "2024-07-18T08:18:44.134502",
     "exception": false,
     "start_time": "2024-07-18T08:18:07.133427",
     "status": "completed"
    },
    "tags": []
   },
   "outputs": [
    {
     "data": {
      "image/png": "[encoded data removed]",
      "text/plain": [
       "<Figure size 700x500 with 1 Axes>"
      ]
     },
     "metadata": {},
     "output_type": "display_data"
    }
   ],
   "source": [
    "hc_average = linkage(model_df, 'average')\n",
    "\n",
    "plt.figure(figsize=(7, 5))\n",
    "plt.title(\"Dendrograms\")\n",
    "dend = dendrogram(hc_average,\n",
    "           truncate_mode=\"lastp\",\n",
    "           p=10,\n",
    "           show_contracted=True,\n",
    "           leaf_font_size=10)\n",
    "plt.axhline(y=0.65, color='r', linestyle='--') \n",
    "plt.show();"
   ]
  },
  {
   "cell_type": "code",
   "execution_count": 16,
   "id": "5203afe8",
   "metadata": {
    "execution": {
     "iopub.execute_input": "2024-07-18T08:18:44.167284Z",
     "iopub.status.busy": "2024-07-18T08:18:44.166863Z",
     "iopub.status.idle": "2024-07-18T08:19:10.034350Z",
     "shell.execute_reply": "2024-07-18T08:19:10.033125Z"
    },
    "papermill": {
     "duration": 25.886672,
     "end_time": "2024-07-18T08:19:10.037039",
     "exception": false,
     "start_time": "2024-07-18T08:18:44.150367",
     "status": "completed"
    },
    "tags": []
   },
   "outputs": [
    {
     "data": {
      "text/html": [
       "<div>\n",
       "<style scoped>\n",
       "    .dataframe tbody tr th:only-of-type {\n",
       "        vertical-align: middle;\n",
       "    }\n",
       "\n",
       "    .dataframe tbody tr th {\n",
       "        vertical-align: top;\n",
       "    }\n",
       "\n",
       "    .dataframe thead th {\n",
       "        text-align: right;\n",
       "    }\n",
       "</style>\n",
       "<table border=\"1\" class=\"dataframe\">\n",
       "  <thead>\n",
       "    <tr style=\"text-align: right;\">\n",
       "      <th></th>\n",
       "      <th>order_num_total_ever_online</th>\n",
       "      <th>order_num_total_ever_offline</th>\n",
       "      <th>customer_value_total_ever_offline</th>\n",
       "      <th>customer_value_total_ever_online</th>\n",
       "      <th>tenure</th>\n",
       "      <th>recency</th>\n",
       "      <th>frequency</th>\n",
       "      <th>monetary</th>\n",
       "      <th>hi_cluster_no</th>\n",
       "    </tr>\n",
       "  </thead>\n",
       "  <tbody>\n",
       "    <tr>\n",
       "      <th>0</th>\n",
       "      <td>0.1988</td>\n",
       "      <td>0.0000</td>\n",
       "      <td>0.3444</td>\n",
       "      <td>0.5008</td>\n",
       "      <td>0.1288</td>\n",
       "      <td>0.2822</td>\n",
       "      <td>0.1645</td>\n",
       "      <td>0.4370</td>\n",
       "      <td>1</td>\n",
       "    </tr>\n",
       "    <tr>\n",
       "      <th>1</th>\n",
       "      <td>0.4995</td>\n",
       "      <td>0.1012</td>\n",
       "      <td>0.3623</td>\n",
       "      <td>0.6048</td>\n",
       "      <td>0.6638</td>\n",
       "      <td>0.3113</td>\n",
       "      <td>0.4727</td>\n",
       "      <td>0.5473</td>\n",
       "      <td>1</td>\n",
       "    </tr>\n",
       "    <tr>\n",
       "      <th>2</th>\n",
       "      <td>0.1504</td>\n",
       "      <td>0.1012</td>\n",
       "      <td>0.3853</td>\n",
       "      <td>0.4138</td>\n",
       "      <td>0.3002</td>\n",
       "      <td>0.5385</td>\n",
       "      <td>0.1645</td>\n",
       "      <td>0.3686</td>\n",
       "      <td>1</td>\n",
       "    </tr>\n",
       "    <tr>\n",
       "      <th>3</th>\n",
       "      <td>0.0000</td>\n",
       "      <td>0.0000</td>\n",
       "      <td>0.1776</td>\n",
       "      <td>0.2203</td>\n",
       "      <td>0.0892</td>\n",
       "      <td>0.3971</td>\n",
       "      <td>0.0000</td>\n",
       "      <td>0.1424</td>\n",
       "      <td>1</td>\n",
       "    </tr>\n",
       "    <tr>\n",
       "      <th>4</th>\n",
       "      <td>0.0000</td>\n",
       "      <td>0.0000</td>\n",
       "      <td>0.2071</td>\n",
       "      <td>0.3023</td>\n",
       "      <td>0.3512</td>\n",
       "      <td>0.2558</td>\n",
       "      <td>0.0000</td>\n",
       "      <td>0.2206</td>\n",
       "      <td>1</td>\n",
       "    </tr>\n",
       "  </tbody>\n",
       "</table>\n",
       "</div>"
      ],
      "text/plain": [
       "   order_num_total_ever_online  order_num_total_ever_offline  customer_value_total_ever_offline  customer_value_total_ever_online  tenure  recency  frequency  monetary  hi_cluster_no\n",
       "0                       0.1988                        0.0000                             0.3444                            0.5008  0.1288   0.2822     0.1645    0.4370              1\n",
       "1                       0.4995                        0.1012                             0.3623                            0.6048  0.6638   0.3113     0.4727    0.5473              1\n",
       "2                       0.1504                        0.1012                             0.3853                            0.4138  0.3002   0.5385     0.1645    0.3686              1\n",
       "3                       0.0000                        0.0000                             0.1776                            0.2203  0.0892   0.3971     0.0000    0.1424              1\n",
       "4                       0.0000                        0.0000                             0.2071                            0.3023  0.3512   0.2558     0.0000    0.2206              1"
      ]
     },
     "execution_count": 16,
     "metadata": {},
     "output_type": "execute_result"
    }
   ],
   "source": [
    "hc = AgglomerativeClustering(n_clusters=5, linkage=\"average\")\n",
    "segments = hc.fit_predict(model_df)\n",
    "model_df[\"hi_cluster_no\"] = segments\n",
    "model_df.head()"
   ]
  },
  {
   "cell_type": "code",
   "execution_count": 17,
   "id": "3d30cda8",
   "metadata": {
    "execution": {
     "iopub.execute_input": "2024-07-18T08:19:10.069366Z",
     "iopub.status.busy": "2024-07-18T08:19:10.068952Z",
     "iopub.status.idle": "2024-07-18T08:19:10.187633Z",
     "shell.execute_reply": "2024-07-18T08:19:10.186392Z"
    },
    "papermill": {
     "duration": 0.138254,
     "end_time": "2024-07-18T08:19:10.190558",
     "exception": false,
     "start_time": "2024-07-18T08:19:10.052304",
     "status": "completed"
    },
    "tags": []
   },
   "outputs": [
    {
     "name": "stdout",
     "output_type": "stream",
     "text": [
      "hi_cluster_no                                  0          1      2      3      4\n",
      "order_num_total_ever_online       count 696.0000 19240.0000 5.0000 2.0000 2.0000\n",
      "                                  mean    0.3990     0.0978 0.0573 0.9028 0.1849\n",
      "                                  std     0.1530     0.1121 0.0877 0.1375 0.2615\n",
      "                                  min     0.0000     0.0000 0.0000 0.8055 0.0000\n",
      "                                  25%     0.3007     0.0000 0.0000 0.8541 0.0924\n",
      "                                  50%     0.4221     0.0880 0.0000 0.9028 0.1849\n",
      "                                  75%     0.4995     0.1504 0.0880 0.9514 0.2773\n",
      "                                  max     0.9071     0.5945 0.1988 1.0000 0.3698\n",
      "order_num_total_ever_offline      count 696.0000 19240.0000 5.0000 2.0000 2.0000\n",
      "                                  mean    0.0942     0.0705 0.8246 0.0506 0.0865\n",
      "                                  std     0.1133     0.0921 0.1415 0.0715 0.1223\n",
      "                                  min     0.0000     0.0000 0.6840 0.0000 0.0000\n",
      "                                  25%     0.0000     0.0000 0.7070 0.0253 0.0432\n",
      "                                  50%     0.1012     0.0000 0.7878 0.0506 0.0865\n",
      "                                  75%     0.1730     0.1012 0.9443 0.0759 0.1297\n",
      "                                  max     0.5340     0.9267 1.0000 0.1012 0.1730\n",
      "customer_value_total_ever_offline count 696.0000 19240.0000 5.0000 2.0000 2.0000\n",
      "                                  mean    0.3821     0.3752 0.8230 0.5993 0.7628\n",
      "                                  std     0.1331     0.1138 0.0798 0.0584 0.3354\n",
      "                                  min     0.0325     0.0000 0.7643 0.5580 0.5257\n",
      "                                  25%     0.2853     0.2993 0.7654 0.5786 0.6443\n",
      "                                  50%     0.3706     0.3781 0.7658 0.5993 0.7628\n",
      "                                  75%     0.4795     0.4552 0.8967 0.6199 0.8814\n",
      "                                  max     0.7361     0.8763 0.9230 0.6406 1.0000\n",
      "customer_value_total_ever_online  count 696.0000 19240.0000 5.0000 2.0000 2.0000\n",
      "                                  mean    0.5751     0.3720 0.3009 0.9799 0.7990\n",
      "                                  std     0.1178     0.1142 0.1277 0.0285 0.2164\n",
      "                                  min     0.0900     0.0000 0.1600 0.9597 0.6460\n",
      "                                  25%     0.5149     0.2894 0.2600 0.9698 0.7225\n",
      "                                  50%     0.5993     0.3695 0.2859 0.9799 0.7990\n",
      "                                  75%     0.6532     0.4527 0.2894 0.9899 0.8755\n",
      "                                  max     0.9741     0.8362 0.5092 1.0000 0.9520\n",
      "tenure                            count 696.0000 19240.0000 5.0000 2.0000 2.0000\n",
      "                                  mean    0.7276     0.3705 0.4298 0.9394 0.0446\n",
      "                                  std     0.1585     0.1682 0.0861 0.0133 0.0166\n",
      "                                  min     0.2333     0.0000 0.3495 0.9300 0.0328\n",
      "                                  25%     0.6157     0.2804 0.3580 0.9347 0.0387\n",
      "                                  50%     0.7405     0.3396 0.4176 0.9394 0.0446\n",
      "                                  75%     0.8545     0.4164 0.4653 0.9441 0.0504\n",
      "                                  max     1.0000     0.9989 0.5588 0.9488 0.0563\n",
      "recency                           count 696.0000 19240.0000 5.0000 2.0000 2.0000\n",
      "                                  mean    0.5097     0.3795 0.8266 0.0656 0.1240\n",
      "                                  std     0.3537     0.2826 0.1299 0.0394 0.0302\n",
      "                                  min     0.0000     0.0000 0.6005 0.0377 0.1027\n",
      "                                  25%     0.1271     0.1271 0.8460 0.0516 0.1133\n",
      "                                  50%     0.5791     0.3257 0.8659 0.0656 0.1240\n",
      "                                  75%     0.8615     0.5764 0.8956 0.0795 0.1347\n",
      "                                  max     1.0000     1.0000 0.9250 0.0935 0.1454\n",
      "frequency                         count 696.0000 19240.0000 5.0000 2.0000 2.0000\n",
      "                                  mean    0.3868     0.1208 0.6970 0.8939 0.2251\n",
      "                                  std     0.1382     0.1038 0.1290 0.1501 0.1469\n",
      "                                  min     0.0000     0.0000 0.5616 0.7878 0.1212\n",
      "                                  25%     0.2857     0.0683 0.6024 0.8408 0.1731\n",
      "                                  50%     0.3972     0.1212 0.6579 0.8939 0.2251\n",
      "                                  75%     0.4833     0.2010 0.8044 0.9469 0.2770\n",
      "                                  max     0.8979     0.7906 0.8589 1.0000 0.3289\n",
      "monetary                          count 696.0000 19240.0000 5.0000 2.0000 2.0000\n",
      "                                  mean    0.5369     0.3560 0.6848 0.9781 0.9145\n",
      "                                  std     0.1032     0.0997 0.0802 0.0310 0.0421\n",
      "                                  min     0.2047     0.0000 0.6165 0.9562 0.8847\n",
      "                                  25%     0.4680     0.2867 0.6177 0.9671 0.8996\n",
      "                                  50%     0.5472     0.3545 0.6482 0.9781 0.9145\n",
      "                                  75%     0.6096     0.4235 0.7570 0.9890 0.9293\n",
      "                                  max     0.9681     0.8070 0.7848 1.0000 0.9442\n"
     ]
    }
   ],
   "source": [
    "cluster_summary = model_df.groupby('hi_cluster_no').describe().T\n",
    "print(cluster_summary)"
   ]
  }
 ],
 "metadata": {
  "kaggle": {
   "accelerator": "none",
   "dataSources": [
    {
     "datasetId": 5095538,
     "sourceId": 8531647,
     "sourceType": "datasetVersion"
    }
   ],
   "dockerImageVersionId": 30746,
   "isGpuEnabled": false,
   "isInternetEnabled": true,
   "language": "python",
   "sourceType": "notebook"
  },
  "kernelspec": {
   "display_name": "Python 3",
   "language": "python",
   "name": "python3"
  },
  "language_info": {
   "codemirror_mode": {
    "name": "ipython",
    "version": 3
   },
   "file_extension": ".py",
   "mimetype": "text/x-python",
   "name": "python",
   "nbconvert_exporter": "python",
   "pygments_lexer": "ipython3",
   "version": "3.10.13"
  },
  "papermill": {
   "default_parameters": {},
   "duration": 110.686176,
   "end_time": "2024-07-18T08:19:11.231670",
   "environment_variables": {},
   "exception": null,
   "input_path": "__notebook__.ipynb",
   "output_path": "__notebook__.ipynb",
   "parameters": {},
   "start_time": "2024-07-18T08:17:20.545494",
   "version": "2.5.0"
  }
 },
 "nbformat": 4,
 "nbformat_minor": 5
}
